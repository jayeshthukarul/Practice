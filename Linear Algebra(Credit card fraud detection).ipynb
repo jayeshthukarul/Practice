{
 "cells": [
  {
   "cell_type": "code",
   "execution_count": 1,
   "metadata": {
    "collapsed": true
   },
   "outputs": [],
   "source": [
    "import pandas as pd\n",
    "import seaborn as sns\n",
    "import numpy as np\n",
    "import matplotlib.pyplot as plt \n",
    "import random\n",
    "import math"
   ]
  },
  {
   "cell_type": "markdown",
   "metadata": {},
   "source": [
    "# TASK 1 : EDA"
   ]
  },
  {
   "cell_type": "code",
   "execution_count": 2,
   "metadata": {
    "collapsed": true
   },
   "outputs": [],
   "source": [
    "creditcard = pd.read_csv('creditcard.csv')"
   ]
  },
  {
   "cell_type": "code",
   "execution_count": 3,
   "metadata": {},
   "outputs": [
    {
     "data": {
      "text/plain": [
       "(284807, 31)"
      ]
     },
     "execution_count": 3,
     "metadata": {},
     "output_type": "execute_result"
    }
   ],
   "source": [
    "creditcard.shape"
   ]
  },
  {
   "cell_type": "code",
   "execution_count": 4,
   "metadata": {},
   "outputs": [
    {
     "data": {
      "text/plain": [
       "Index(['Time', 'V1', 'V2', 'V3', 'V4', 'V5', 'V6', 'V7', 'V8', 'V9', 'V10',\n",
       "       'V11', 'V12', 'V13', 'V14', 'V15', 'V16', 'V17', 'V18', 'V19', 'V20',\n",
       "       'V21', 'V22', 'V23', 'V24', 'V25', 'V26', 'V27', 'V28', 'Amount',\n",
       "       'Class'],\n",
       "      dtype='object')"
      ]
     },
     "execution_count": 4,
     "metadata": {},
     "output_type": "execute_result"
    }
   ],
   "source": [
    "creditcard.columns"
   ]
  },
  {
   "cell_type": "code",
   "execution_count": 5,
   "metadata": {},
   "outputs": [
    {
     "name": "stdout",
     "output_type": "stream",
     "text": [
      "<class 'pandas.core.frame.DataFrame'>\n",
      "RangeIndex: 284807 entries, 0 to 284806\n",
      "Data columns (total 31 columns):\n",
      "Time      284807 non-null float64\n",
      "V1        284807 non-null float64\n",
      "V2        284807 non-null float64\n",
      "V3        284807 non-null float64\n",
      "V4        284807 non-null float64\n",
      "V5        284807 non-null float64\n",
      "V6        284807 non-null float64\n",
      "V7        284807 non-null float64\n",
      "V8        284807 non-null float64\n",
      "V9        284807 non-null float64\n",
      "V10       284807 non-null float64\n",
      "V11       284807 non-null float64\n",
      "V12       284807 non-null float64\n",
      "V13       284807 non-null float64\n",
      "V14       284807 non-null float64\n",
      "V15       284807 non-null float64\n",
      "V16       284807 non-null float64\n",
      "V17       284807 non-null float64\n",
      "V18       284807 non-null float64\n",
      "V19       284807 non-null float64\n",
      "V20       284807 non-null float64\n",
      "V21       284807 non-null float64\n",
      "V22       284807 non-null float64\n",
      "V23       284807 non-null float64\n",
      "V24       284807 non-null float64\n",
      "V25       284807 non-null float64\n",
      "V26       284807 non-null float64\n",
      "V27       284807 non-null float64\n",
      "V28       284807 non-null float64\n",
      "Amount    284807 non-null float64\n",
      "Class     284807 non-null int64\n",
      "dtypes: float64(30), int64(1)\n",
      "memory usage: 67.4 MB\n"
     ]
    }
   ],
   "source": [
    "creditcard.info()"
   ]
  },
  {
   "cell_type": "code",
   "execution_count": 8,
   "metadata": {},
   "outputs": [
    {
     "data": {
      "text/plain": [
       "0    0.0\n",
       "1    0.0\n",
       "2    1.0\n",
       "3    1.0\n",
       "4    2.0\n",
       "5    2.0\n",
       "6    4.0\n",
       "7    7.0\n",
       "8    7.0\n",
       "9    9.0\n",
       "Name: Time, dtype: float64"
      ]
     },
     "execution_count": 8,
     "metadata": {},
     "output_type": "execute_result"
    }
   ],
   "source": [
    "creditcard.Time.head(10)"
   ]
  },
  {
   "cell_type": "markdown",
   "metadata": {},
   "source": [
    "**OBSERVATION:**\n",
    "*    No missing values.\n",
    "\n",
    "Other features don't infer anything.Time feature also don't infer anything as seems like it contains sequential values of time like index.  So we will consider Amount Feature only for further analysis."
   ]
  },
  {
   "cell_type": "code",
   "execution_count": 36,
   "metadata": {},
   "outputs": [
    {
     "data": {
      "text/plain": [
       "count    284807.000000\n",
       "mean         88.349619\n",
       "std         250.120109\n",
       "min           0.000000\n",
       "25%           5.600000\n",
       "50%          22.000000\n",
       "75%          77.165000\n",
       "max       25691.160000\n",
       "Name: Amount, dtype: float64"
      ]
     },
     "execution_count": 36,
     "metadata": {},
     "output_type": "execute_result"
    }
   ],
   "source": [
    "creditcard[\"Amount\"].describe()"
   ]
  },
  {
   "cell_type": "markdown",
   "metadata": {},
   "source": [
    "**Observations:**\n",
    "*    75% of transactions are of less than 78."
   ]
  },
  {
   "cell_type": "code",
   "execution_count": 10,
   "metadata": {},
   "outputs": [
    {
     "data": {
      "text/plain": [
       "array([0, 1], dtype=int64)"
      ]
     },
     "execution_count": 10,
     "metadata": {},
     "output_type": "execute_result"
    }
   ],
   "source": [
    "creditcard[\"Class\"].unique()"
   ]
  },
  {
   "cell_type": "markdown",
   "metadata": {},
   "source": [
    "changing values of target column to \"YES\" nd \"NO\".  0=>Normal transactions and 1 => fraud transactons.\n",
    "To have better intuition in plots I am changing Target columns with \"yes\" and \"no\"."
   ]
  },
  {
   "cell_type": "code",
   "execution_count": 21,
   "metadata": {},
   "outputs": [
    {
     "name": "stderr",
     "output_type": "stream",
     "text": [
      "C:\\Users\\JAYESH\\Anaconda3\\lib\\site-packages\\ipykernel_launcher.py:1: SettingWithCopyWarning: \n",
      "A value is trying to be set on a copy of a slice from a DataFrame\n",
      "\n",
      "See the caveats in the documentation: http://pandas.pydata.org/pandas-docs/stable/indexing.html#indexing-view-versus-copy\n",
      "  \"\"\"Entry point for launching an IPython kernel.\n"
     ]
    }
   ],
   "source": [
    "creditcard.Class[creditcard.Class == 0]=\"No\"\n",
    "creditcard.Class[creditcard.Class == 1]=\"Yes\""
   ]
  },
  {
   "cell_type": "code",
   "execution_count": 22,
   "metadata": {},
   "outputs": [
    {
     "data": {
      "text/plain": [
       "array(['No', 'Yes'], dtype=object)"
      ]
     },
     "execution_count": 22,
     "metadata": {},
     "output_type": "execute_result"
    }
   ],
   "source": [
    "creditcard[\"Class\"].unique()"
   ]
  },
  {
   "cell_type": "code",
   "execution_count": 41,
   "metadata": {},
   "outputs": [
    {
     "name": "stdout",
     "output_type": "stream",
     "text": [
      "No     284315\n",
      "Yes       492\n",
      "Name: Class, dtype: int64\n",
      "No     0.998273\n",
      "Yes    0.001727\n",
      "Name: Class, dtype: float64\n"
     ]
    }
   ],
   "source": [
    "print(creditcard[\"Class\"].value_counts())\n",
    "print(creditcard[\"Class\"].value_counts(normalize=True))"
   ]
  },
  {
   "cell_type": "markdown",
   "metadata": {},
   "source": [
    "**OBSERVATIOJN:**\n",
    "*    We have 99.82% normal transsactions and remaining are fraud transactions.\n",
    "*    It is an imbalanced dataset."
   ]
  },
  {
   "cell_type": "code",
   "execution_count": 45,
   "metadata": {},
   "outputs": [
    {
     "data": {
      "image/png": "[encoded data removed]",
      "text/plain": [
       "<matplotlib.figure.Figure at 0x27c6c930e10>"
      ]
     },
     "metadata": {},
     "output_type": "display_data"
    }
   ],
   "source": [
    "# Histogram plots of counts of target column class.\n",
    "pd.value_counts(creditcard['Class'], sort = True).sort_index().plot(kind='bar')\n",
    "plt.show()"
   ]
  },
  {
   "cell_type": "code",
   "execution_count": 46,
   "metadata": {},
   "outputs": [
    {
     "data": {
      "image/png": "[encoded data removed]",
      "text/plain": [
       "<matplotlib.figure.Figure at 0x27c6c948860>"
      ]
     },
     "metadata": {},
     "output_type": "display_data"
    }
   ],
   "source": [
    "sns.FacetGrid(creditcard, hue=\"Class\", size=5) \\\n",
    "   .map(sns.distplot, \"Time\") \\\n",
    "   .add_legend();\n",
    "\n",
    "plt.show();"
   ]
  },
  {
   "cell_type": "code",
   "execution_count": 47,
   "metadata": {},
   "outputs": [
    {
     "data": {
      "image/png": "[encoded data removed]",
      "text/plain": [
       "<matplotlib.figure.Figure at 0x27c6eebb668>"
      ]
     },
     "metadata": {},
     "output_type": "display_data"
    }
   ],
   "source": [
    "sns.FacetGrid(creditcard, hue=\"Class\", size=5) \\\n",
    "   .map(sns.distplot, \"Amount\") \\\n",
    "   .add_legend();\n",
    "\n",
    "plt.show();"
   ]
  },
  {
   "cell_type": "markdown",
   "metadata": {},
   "source": [
    "**Time feature doesn't infer anything so will conider only Amount feature for further analysis.\n",
    "Not able to conclude anything from above Histogra ad PDF.**"
   ]
  },
  {
   "cell_type": "code",
   "execution_count": 48,
   "metadata": {
    "collapsed": true
   },
   "outputs": [],
   "source": [
    "normal_trans = creditcard[creditcard.Class == \"No\"]\n",
    "fraud_trans = creditcard[creditcard.Class == \"Yes\"]"
   ]
  },
  {
   "cell_type": "code",
   "execution_count": 61,
   "metadata": {},
   "outputs": [
    {
     "name": "stdout",
     "output_type": "stream",
     "text": [
      "count    284315.000000\n",
      "mean         88.291022\n",
      "std         250.105092\n",
      "min           0.000000\n",
      "25%           5.650000\n",
      "50%          22.000000\n",
      "75%          77.050000\n",
      "max       25691.160000\n",
      "Name: Amount, dtype: float64\n"
     ]
    }
   ],
   "source": [
    "print(normal_trans[\"Amount\"].describe())\n"
   ]
  },
  {
   "cell_type": "code",
   "execution_count": 62,
   "metadata": {},
   "outputs": [
    {
     "name": "stdout",
     "output_type": "stream",
     "text": [
      "count     492.000000\n",
      "mean      122.211321\n",
      "std       256.683288\n",
      "min         0.000000\n",
      "25%         1.000000\n",
      "50%         9.250000\n",
      "75%       105.890000\n",
      "max      2125.870000\n",
      "Name: Amount, dtype: float64\n"
     ]
    }
   ],
   "source": [
    "print(fraud_trans[\"Amount\"].describe())\n"
   ]
  },
  {
   "cell_type": "code",
   "execution_count": 58,
   "metadata": {},
   "outputs": [
    {
     "data": {
      "image/png": "[encoded data removed]",
      "text/plain": [
       "<matplotlib.figure.Figure at 0x27c0a876518>"
      ]
     },
     "metadata": {},
     "output_type": "display_data"
    }
   ],
   "source": [
    "plt.subplot(1,2,1)\n",
    "sns.boxplot(x='Class',y='Time', data=creditcard)\n",
    "plt.subplot(1,2,2)\n",
    "sns.boxplot(x='Class',y='Amount', data=creditcard)\n",
    "plt.tight_layout()\n",
    "plt.show()"
   ]
  },
  {
   "cell_type": "code",
   "execution_count": 63,
   "metadata": {},
   "outputs": [
    {
     "data": {
      "image/png": "[encoded data removed]",
      "text/plain": [
       "<matplotlib.figure.Figure at 0x27c0a9bc898>"
      ]
     },
     "metadata": {},
     "output_type": "display_data"
    }
   ],
   "source": [
    "plt.subplot(1,2,1)\n",
    "sns.violinplot(x=\"Class\", y=\"Amount\", data=creditcard, size=8)\n",
    "\n",
    "plt.subplot(1,2,2)\n",
    "sns.violinplot(x=\"Class\", y=\"Time\", data=creditcard, size=8)\n",
    "plt.tight_layout()\n",
    "\n",
    "plt.show()"
   ]
  },
  {
   "cell_type": "markdown",
   "metadata": {},
   "source": [
    "**OBSERVATIONS:**\n",
    "*    most of the frauds are of less amount.50% Frauds are of less than 10."
   ]
  },
  {
   "cell_type": "code",
   "execution_count": 66,
   "metadata": {},
   "outputs": [
    {
     "data": {
      "image/png": "[encoded data removed]",
      "text/plain": [
       "<matplotlib.figure.Figure at 0x27c0a73f278>"
      ]
     },
     "metadata": {},
     "output_type": "display_data"
    }
   ],
   "source": [
    "\n",
    "creditcard.hist(column=\"Amount\",by=\"Class\",bins=30)\n",
    "plt.show()"
   ]
  },
  {
   "cell_type": "markdown",
   "metadata": {},
   "source": [
    "# TASK 2: FIND SIMILARITY\n"
   ]
  },
  {
   "cell_type": "code",
   "execution_count": 2,
   "metadata": {
    "collapsed": true
   },
   "outputs": [],
   "source": [
    "data = pd.read_csv('creditcard.csv')"
   ]
  },
  {
   "cell_type": "code",
   "execution_count": 3,
   "metadata": {
    "collapsed": true
   },
   "outputs": [],
   "source": [
    "normal_sample = data.loc[data[\"Class\"] == 0]\n",
    "fraud_sample = data.loc[data[\"Class\"] == 1]"
   ]
  },
  {
   "cell_type": "code",
   "execution_count": 4,
   "metadata": {
    "collapsed": true
   },
   "outputs": [],
   "source": [
    "###saving indices for normal and fruad records.\n",
    "normal_idx = np.array(data.loc[data[\"Class\"] == 0].index)\n",
    "fraud_idx = np.array(data.loc[data[\"Class\"] == 1].index)\n",
    "#print(normal_idx)"
   ]
  },
  {
   "cell_type": "code",
   "execution_count": 5,
   "metadata": {
    "collapsed": true
   },
   "outputs": [],
   "source": [
    "#taking samples from normal and fraud transactions indvidually.\n",
    "normal_choices = np.random.choice(normal_idx,100)\n",
    "fraud_choices = np.random.choice(fraud_idx,50)"
   ]
  },
  {
   "cell_type": "code",
   "execution_count": 6,
   "metadata": {},
   "outputs": [
    {
     "data": {
      "text/plain": [
       "150"
      ]
     },
     "execution_count": 6,
     "metadata": {},
     "output_type": "execute_result"
    }
   ],
   "source": [
    "#concatenating both samples into one\n",
    "final_choices = np.concatenate([normal_choices,fraud_choices])\n",
    "len(final_choices)"
   ]
  },
  {
   "cell_type": "code",
   "execution_count": 7,
   "metadata": {},
   "outputs": [
    {
     "data": {
      "text/plain": [
       "100"
      ]
     },
     "execution_count": 7,
     "metadata": {},
     "output_type": "execute_result"
    }
   ],
   "source": [
    "#taking final 100 samples.\n",
    "final_sample = np.random.choice(final_choices,100)\n",
    "len(final_sample)"
   ]
  },
  {
   "cell_type": "code",
   "execution_count": 8,
   "metadata": {},
   "outputs": [
    {
     "data": {
      "text/plain": [
       "0    63\n",
       "1    37\n",
       "Name: Class, dtype: int64"
      ]
     },
     "execution_count": 8,
     "metadata": {},
     "output_type": "execute_result"
    }
   ],
   "source": [
    "#checking counts of each class in sample\n",
    "data.loc[final_sample][\"Class\"].value_counts()"
   ]
  },
  {
   "cell_type": "markdown",
   "metadata": {},
   "source": [
    "**SMILARITY ALGOrithm without using any library functons**"
   ]
  },
  {
   "cell_type": "markdown",
   "metadata": {},
   "source": [
    "Function that calculates length of vactor."
   ]
  },
  {
   "cell_type": "code",
   "execution_count": 9,
   "metadata": {
    "collapsed": true
   },
   "outputs": [],
   "source": [
    "def vec_len(x):\n",
    "    '''Function that calculates length of vactor.'''\n",
    "    #return round(sqrt(sum((a*a for a in np.nditer(x))))\n",
    "    #sum = 0\n",
    "    #for a in np.nditer(x):\n",
    "        #print(math.sqrt(a*a)){\n",
    "     #   sum += a*a\n",
    "        #print(\"a:{}, sum:{}\".format(a,sum))\n",
    "    return math.sqrt(np.sum(x**2))\n",
    "\n",
    "#vec_len(np.array(data.loc[final_sample[0]]))"
   ]
  },
  {
   "cell_type": "markdown",
   "metadata": {},
   "source": [
    "Functon to calculate similarity between given two vectors."
   ]
  },
  {
   "cell_type": "code",
   "execution_count": 10,
   "metadata": {
    "collapsed": true
   },
   "outputs": [],
   "source": [
    "def calc_similarity(n1,n2):\n",
    "    numerator = np.array(np.dot(n1,n2))\n",
    "    #print(numerator)\n",
    "    denominator = (vec_len(n1)*vec_len(n2))\n",
    "    #print(denominator)\n",
    "    #print((numerator/denominator))\n",
    "    if (numerator/denominator) > 1:\n",
    "        temp = 1\n",
    "    else:\n",
    "        temp = (numerator/denominator)\n",
    "    #print(temp)\n",
    "    return math.acos(temp)"
   ]
  },
  {
   "cell_type": "markdown",
   "metadata": {},
   "source": [
    "Print result."
   ]
  },
  {
   "cell_type": "code",
   "execution_count": 11,
   "metadata": {
    "scrolled": true
   },
   "outputs": [
    {
     "name": "stdout",
     "output_type": "stream",
     "text": [
      "BEFORE REMOVING SIMILARITY WITH 0 VALUES.\n",
      "************************************************************\n",
      "Given Transaction id:27362,  class:1\n",
      "************************************************************\n",
      "Similar transactions\n",
      "************************************************************\n",
      "class = 1 #similarity = 0.0 #transaction id = 27362\n",
      "class = 0 #similarity = 4.926622265956916e-05 #transaction id = 33630\n",
      "class = 0 #similarity = 5.6684990613476165e-05 #transaction id = 67151\n",
      "class = 0 #similarity = 5.927303014622517e-05 #transaction id = 45338\n",
      "class = 0 #similarity = 5.939233489844493e-05 #transaction id = 29073\n",
      "class = 0 #similarity = 6.194796069839834e-05 #transaction id = 37684\n",
      "class = 0 #similarity = 6.33632698508161e-05 #transaction id = 39031\n",
      "class = 0 #similarity = 6.341105764133075e-05 #transaction id = 26439\n",
      "class = 0 #similarity = 6.416636221789745e-05 #transaction id = 60810\n",
      "class = 0 #similarity = 6.435613824588293e-05 #transaction id = 47434\n",
      "--------------------------------------------------------------------------------\n",
      "////////////////////////////////////////////////////////////////////////////////////////////////////\n",
      "BEFORE REMOVING SIMILARITY WITH 0 VALUES.\n",
      "************************************************************\n",
      "Given Transaction id:235185,  class:0\n",
      "************************************************************\n",
      "Similar transactions\n",
      "************************************************************\n",
      "class = 0 #similarity = 0.0 #transaction id = 235185\n",
      "class = 0 #similarity = 8.388930262645968e-06 #transaction id = 204266\n",
      "class = 0 #similarity = 9.524674900870703e-06 #transaction id = 283482\n",
      "class = 0 #similarity = 9.524674900870703e-06 #transaction id = 283483\n",
      "class = 0 #similarity = 1.1674838700820398e-05 #transaction id = 256188\n",
      "class = 0 #similarity = 1.2068993110395491e-05 #transaction id = 217575\n",
      "class = 0 #similarity = 1.2861748051453127e-05 #transaction id = 224364\n",
      "class = 0 #similarity = 1.3646038885119494e-05 #transaction id = 244794\n",
      "class = 0 #similarity = 1.432700735750922e-05 #transaction id = 255255\n",
      "class = 0 #similarity = 1.4465067657623607e-05 #transaction id = 182332\n",
      "--------------------------------------------------------------------------------\n",
      "////////////////////////////////////////////////////////////////////////////////////////////////////\n",
      "BEFORE REMOVING SIMILARITY WITH 0 VALUES.\n",
      "************************************************************\n",
      "Given Transaction id:277970,  class:0\n",
      "************************************************************\n",
      "Similar transactions\n",
      "************************************************************\n",
      "class = 0 #similarity = 0.0 #transaction id = 277970\n",
      "class = 0 #similarity = 2.38729717225082e-05 #transaction id = 233635\n",
      "class = 0 #similarity = 2.4520688196096524e-05 #transaction id = 233447\n",
      "class = 0 #similarity = 2.5249066791835993e-05 #transaction id = 257620\n",
      "class = 0 #similarity = 2.7357448431835385e-05 #transaction id = 233331\n",
      "class = 0 #similarity = 2.8264513754768514e-05 #transaction id = 273760\n",
      "class = 0 #similarity = 2.9452426875678098e-05 #transaction id = 277876\n",
      "class = 0 #similarity = 2.9892182478575213e-05 #transaction id = 259865\n",
      "class = 0 #similarity = 3.0217997147047738e-05 #transaction id = 274249\n",
      "class = 0 #similarity = 3.1239235161622634e-05 #transaction id = 223400\n",
      "--------------------------------------------------------------------------------\n",
      "////////////////////////////////////////////////////////////////////////////////////////////////////\n",
      "BEFORE REMOVING SIMILARITY WITH 0 VALUES.\n",
      "************************************************************\n",
      "Given Transaction id:150863,  class:0\n",
      "************************************************************\n",
      "Similar transactions\n",
      "************************************************************\n",
      "class = 0 #similarity = 2.9802322387695312e-08 #transaction id = 150863\n",
      "class = 0 #similarity = 7.0454133581069005e-06 #transaction id = 150792\n",
      "class = 0 #similarity = 9.722445300929437e-06 #transaction id = 150855\n",
      "class = 0 #similarity = 1.7528130199238583e-05 #transaction id = 150759\n",
      "class = 0 #similarity = 1.933454232457576e-05 #transaction id = 150852\n",
      "class = 0 #similarity = 1.980446731465241e-05 #transaction id = 150786\n",
      "class = 0 #similarity = 2.0357255055568085e-05 #transaction id = 150757\n",
      "class = 0 #similarity = 2.0489177920798767e-05 #transaction id = 150806\n",
      "class = 0 #similarity = 2.0862902875056265e-05 #transaction id = 150851\n",
      "class = 0 #similarity = 2.086398311513969e-05 #transaction id = 150805\n",
      "--------------------------------------------------------------------------------\n",
      "////////////////////////////////////////////////////////////////////////////////////////////////////\n"
     ]
    },
    {
     "ename": "KeyboardInterrupt",
     "evalue": "",
     "output_type": "error",
     "traceback": [
      "\u001b[1;31m---------------------------------------------------------------------------\u001b[0m",
      "\u001b[1;31mKeyboardInterrupt\u001b[0m                         Traceback (most recent call last)",
      "\u001b[1;32m<ipython-input-11-74ccdd593b7e>\u001b[0m in \u001b[0;36m<module>\u001b[1;34m()\u001b[0m\n\u001b[0;32m      3\u001b[0m     \u001b[0msimilarity\u001b[0m \u001b[1;33m=\u001b[0m \u001b[1;33m[\u001b[0m\u001b[1;33m]\u001b[0m\u001b[1;33m\u001b[0m\u001b[0m\n\u001b[0;32m      4\u001b[0m     \u001b[1;32mfor\u001b[0m \u001b[0mj\u001b[0m \u001b[1;32min\u001b[0m \u001b[0mrange\u001b[0m\u001b[1;33m(\u001b[0m\u001b[0mlen\u001b[0m\u001b[1;33m(\u001b[0m\u001b[0mdata\u001b[0m\u001b[1;33m)\u001b[0m\u001b[1;33m)\u001b[0m\u001b[1;33m:\u001b[0m\u001b[1;33m\u001b[0m\u001b[0m\n\u001b[1;32m----> 5\u001b[1;33m         \u001b[0mv2\u001b[0m \u001b[1;33m=\u001b[0m \u001b[0mnp\u001b[0m\u001b[1;33m.\u001b[0m\u001b[0marray\u001b[0m\u001b[1;33m(\u001b[0m\u001b[0mdata\u001b[0m\u001b[1;33m.\u001b[0m\u001b[0mloc\u001b[0m\u001b[1;33m[\u001b[0m\u001b[0mj\u001b[0m\u001b[1;33m]\u001b[0m\u001b[1;33m)\u001b[0m\u001b[1;33m\u001b[0m\u001b[0m\n\u001b[0m\u001b[0;32m      6\u001b[0m \u001b[1;33m\u001b[0m\u001b[0m\n\u001b[0;32m      7\u001b[0m        \u001b[1;31m# print(v1)\u001b[0m\u001b[1;33m\u001b[0m\u001b[1;33m\u001b[0m\u001b[0m\n",
      "\u001b[1;31mKeyboardInterrupt\u001b[0m: "
     ]
    }
   ],
   "source": [
    "for i in range(len(final_sample)):\n",
    "    v1 = np.array(data.loc[final_sample[i]])\n",
    "    similarity = []\n",
    "    for j in range(len(data)):\n",
    "        v2 = np.array(data.loc[j])\n",
    "\n",
    "       # print(v1)\n",
    "       # print(v2)\n",
    "       # numerator = np.array(np.dot(v1,v2))\n",
    "      # numerator = sum(a*b for a,b in zip(v1,v2))\n",
    "       # print(numerator)\n",
    "       # print(vec_len(v1))\n",
    "       # denominator = (vec_len(v1)*vec_len(v2))\n",
    "      #  print(denominator)\n",
    "       # print(round((numerator/denominator),2))\n",
    "        similar = calc_similarity(v1,v2)\n",
    "        temp_array = [similar,j]\n",
    "        #print(temp_array)\n",
    "        similarity.append(temp_array)\n",
    "    similarity.sort(key=lambda x: x[0])\n",
    "    print(\"BEFORE REMOVING SIMILARITY WITH 0 VALUES.\")\n",
    "    print(\"***\"*20)\n",
    "    print(\"Given Transaction id:{},  class:{}\".format(final_sample[i],data.Class[final_sample[i]]) )\n",
    "    print(\"***\"*20)\n",
    "    print(\"Similar transactions\")\n",
    "    print(\"***\"*20)\n",
    "    for k in range(10):\n",
    "        print(\"class = {} #similarity = {} #transaction id = {}\".format(data.Class[similarity[k][1]],similarity[k][0],similarity[k][1]))\n",
    "    print(\"----\"*20)    \n",
    "    print(\"//\"*50)"
   ]
  },
  {
   "cell_type": "markdown",
   "metadata": {
    "collapsed": true
   },
   "source": [
    "**SIMILARITY ALOGRITHM using SCIKIT-LEARN cosine complexity function.**"
   ]
  },
  {
   "cell_type": "code",
   "execution_count": 16,
   "metadata": {
    "scrolled": true
   },
   "outputs": [
    {
     "name": "stdout",
     "output_type": "stream",
     "text": [
      "Given Transaction id:27362,  class:1\n",
      "************************************************************\n",
      "Similar transactions\n",
      "************************************************************\n",
      "class = 1 #similarity = 0.0 #transaction id = 27362\n",
      "class = 0 #similarity = 4.926622265956916e-05 #transaction id = 33630\n",
      "class = 0 #similarity = 5.6684988654892364e-05 #transaction id = 67151\n",
      "class = 0 #similarity = 5.927303389235722e-05 #transaction id = 45338\n",
      "class = 0 #similarity = 5.939233676774845e-05 #transaction id = 29073\n",
      "class = 0 #similarity = 6.194796428277134e-05 #transaction id = 37684\n",
      "class = 0 #similarity = 6.336326634650497e-05 #transaction id = 39031\n",
      "class = 0 #similarity = 6.341105939216578e-05 #transaction id = 26439\n",
      "class = 0 #similarity = 6.416636048767151e-05 #transaction id = 60810\n",
      "class = 0 #similarity = 6.435613824588293e-05 #transaction id = 47434\n",
      "////////////////////////////////////////////////////////////////////////////////\n",
      "--------------------------------------------------------------------------------\n",
      "Given Transaction id:235185,  class:0\n",
      "************************************************************\n",
      "Similar transactions\n",
      "************************************************************\n",
      "class = 0 #similarity = 1.4901161193847656e-08 #transaction id = 235185\n",
      "class = 0 #similarity = 8.388903793841452e-06 #transaction id = 204266\n",
      "class = 0 #similarity = 9.524686557146186e-06 #transaction id = 283482\n",
      "class = 0 #similarity = 9.524686557146186e-06 #transaction id = 283483\n",
      "class = 0 #similarity = 1.167484821035283e-05 #transaction id = 256188\n",
      "class = 0 #similarity = 1.206900230936173e-05 #transaction id = 217575\n",
      "class = 0 #similarity = 1.2861748051453127e-05 #transaction id = 224364\n",
      "class = 0 #similarity = 1.3646063292686579e-05 #transaction id = 244794\n",
      "class = 0 #similarity = 1.4327015106669227e-05 #transaction id = 255255\n",
      "class = 0 #similarity = 1.4465075332822621e-05 #transaction id = 182332\n",
      "////////////////////////////////////////////////////////////////////////////////\n",
      "--------------------------------------------------------------------------------\n",
      "Given Transaction id:277970,  class:0\n",
      "************************************************************\n",
      "Similar transactions\n",
      "************************************************************\n",
      "class = 0 #similarity = 0.0 #transaction id = 277970\n",
      "class = 0 #similarity = 2.38729717225082e-05 #transaction id = 233635\n",
      "class = 0 #similarity = 2.4520679140696275e-05 #transaction id = 233447\n",
      "class = 0 #similarity = 2.524906239475023e-05 #transaction id = 257620\n",
      "class = 0 #similarity = 2.735745249004624e-05 #transaction id = 233331\n",
      "class = 0 #similarity = 2.8264525538690957e-05 #transaction id = 273760\n",
      "class = 0 #similarity = 2.9452438184316426e-05 #transaction id = 277876\n",
      "class = 0 #similarity = 2.9892182478575213e-05 #transaction id = 259865\n",
      "class = 0 #similarity = 3.0218004495138244e-05 #transaction id = 274249\n",
      "class = 0 #similarity = 3.1239231607684505e-05 #transaction id = 223400\n",
      "////////////////////////////////////////////////////////////////////////////////\n",
      "--------------------------------------------------------------------------------\n",
      "Given Transaction id:150863,  class:0\n",
      "************************************************************\n",
      "Similar transactions\n",
      "************************************************************\n",
      "class = 0 #similarity = 2.580956827951785e-08 #transaction id = 150863\n",
      "class = 0 #similarity = 7.045444874229093e-06 #transaction id = 150792\n",
      "class = 0 #similarity = 9.722433881747922e-06 #transaction id = 150855\n",
      "class = 0 #similarity = 1.7528130199238583e-05 #transaction id = 150759\n",
      "class = 0 #similarity = 1.933455380891996e-05 #transaction id = 150852\n",
      "class = 0 #similarity = 1.9804472920573794e-05 #transaction id = 150786\n",
      "class = 0 #similarity = 2.0357238694470268e-05 #transaction id = 150757\n",
      "class = 0 #similarity = 2.0489172502215474e-05 #transaction id = 150806\n",
      "class = 0 #similarity = 2.08628869104977e-05 #transaction id = 150851\n",
      "class = 0 #similarity = 2.0863967151407693e-05 #transaction id = 150805\n",
      "////////////////////////////////////////////////////////////////////////////////\n",
      "--------------------------------------------------------------------------------\n"
     ]
    },
    {
     "ename": "KeyboardInterrupt",
     "evalue": "",
     "output_type": "error",
     "traceback": [
      "\u001b[1;31m---------------------------------------------------------------------------\u001b[0m",
      "\u001b[1;31mKeyboardInterrupt\u001b[0m                         Traceback (most recent call last)",
      "\u001b[1;32m<ipython-input-16-5395970a8706>\u001b[0m in \u001b[0;36m<module>\u001b[1;34m()\u001b[0m\n\u001b[0;32m      9\u001b[0m         \u001b[0mv2\u001b[0m \u001b[1;33m=\u001b[0m \u001b[0mnp\u001b[0m\u001b[1;33m.\u001b[0m\u001b[0marray\u001b[0m\u001b[1;33m(\u001b[0m\u001b[0mdata\u001b[0m\u001b[1;33m.\u001b[0m\u001b[0mloc\u001b[0m\u001b[1;33m[\u001b[0m\u001b[0mm\u001b[0m\u001b[1;33m]\u001b[0m\u001b[1;33m)\u001b[0m\u001b[1;33m\u001b[0m\u001b[0m\n\u001b[0;32m     10\u001b[0m         \u001b[0mv2\u001b[0m \u001b[1;33m=\u001b[0m \u001b[0mv2\u001b[0m\u001b[1;33m.\u001b[0m\u001b[0mreshape\u001b[0m\u001b[1;33m(\u001b[0m\u001b[1;33m(\u001b[0m\u001b[1;36m1\u001b[0m\u001b[1;33m,\u001b[0m\u001b[0mv2\u001b[0m\u001b[1;33m.\u001b[0m\u001b[0mshape\u001b[0m\u001b[1;33m[\u001b[0m\u001b[1;36m0\u001b[0m\u001b[1;33m]\u001b[0m\u001b[1;33m)\u001b[0m\u001b[1;33m)\u001b[0m\u001b[1;33m\u001b[0m\u001b[0m\n\u001b[1;32m---> 11\u001b[1;33m         \u001b[0msimilar\u001b[0m \u001b[1;33m=\u001b[0m \u001b[0mmath\u001b[0m\u001b[1;33m.\u001b[0m\u001b[0macos\u001b[0m\u001b[1;33m(\u001b[0m\u001b[1;36m1\u001b[0m \u001b[1;32mif\u001b[0m \u001b[0mcosine_similarity\u001b[0m\u001b[1;33m(\u001b[0m\u001b[0mv1\u001b[0m\u001b[1;33m,\u001b[0m\u001b[0mv2\u001b[0m\u001b[1;33m)\u001b[0m \u001b[1;33m>\u001b[0m \u001b[1;36m1\u001b[0m \u001b[1;32melse\u001b[0m \u001b[0mcosine_similarity\u001b[0m\u001b[1;33m(\u001b[0m\u001b[0mv1\u001b[0m\u001b[1;33m,\u001b[0m\u001b[0mv2\u001b[0m\u001b[1;33m)\u001b[0m\u001b[1;33m)\u001b[0m\u001b[1;33m\u001b[0m\u001b[0m\n\u001b[0m\u001b[0;32m     12\u001b[0m         \u001b[0mtemp_array\u001b[0m \u001b[1;33m=\u001b[0m \u001b[1;33m[\u001b[0m\u001b[0msimilar\u001b[0m\u001b[1;33m,\u001b[0m\u001b[0mm\u001b[0m\u001b[1;33m]\u001b[0m\u001b[1;33m\u001b[0m\u001b[0m\n\u001b[0;32m     13\u001b[0m         \u001b[1;31m#print(temp_array)\u001b[0m\u001b[1;33m\u001b[0m\u001b[1;33m\u001b[0m\u001b[0m\n",
      "\u001b[1;32m~\\Anaconda3\\lib\\site-packages\\sklearn\\metrics\\pairwise.py\u001b[0m in \u001b[0;36mcosine_similarity\u001b[1;34m(X, Y, dense_output)\u001b[0m\n\u001b[0;32m    921\u001b[0m         \u001b[0mY_normalized\u001b[0m \u001b[1;33m=\u001b[0m \u001b[0mX_normalized\u001b[0m\u001b[1;33m\u001b[0m\u001b[0m\n\u001b[0;32m    922\u001b[0m     \u001b[1;32melse\u001b[0m\u001b[1;33m:\u001b[0m\u001b[1;33m\u001b[0m\u001b[0m\n\u001b[1;32m--> 923\u001b[1;33m         \u001b[0mY_normalized\u001b[0m \u001b[1;33m=\u001b[0m \u001b[0mnormalize\u001b[0m\u001b[1;33m(\u001b[0m\u001b[0mY\u001b[0m\u001b[1;33m,\u001b[0m \u001b[0mcopy\u001b[0m\u001b[1;33m=\u001b[0m\u001b[1;32mTrue\u001b[0m\u001b[1;33m)\u001b[0m\u001b[1;33m\u001b[0m\u001b[0m\n\u001b[0m\u001b[0;32m    924\u001b[0m \u001b[1;33m\u001b[0m\u001b[0m\n\u001b[0;32m    925\u001b[0m     \u001b[0mK\u001b[0m \u001b[1;33m=\u001b[0m \u001b[0msafe_sparse_dot\u001b[0m\u001b[1;33m(\u001b[0m\u001b[0mX_normalized\u001b[0m\u001b[1;33m,\u001b[0m \u001b[0mY_normalized\u001b[0m\u001b[1;33m.\u001b[0m\u001b[0mT\u001b[0m\u001b[1;33m,\u001b[0m \u001b[0mdense_output\u001b[0m\u001b[1;33m=\u001b[0m\u001b[0mdense_output\u001b[0m\u001b[1;33m)\u001b[0m\u001b[1;33m\u001b[0m\u001b[0m\n",
      "\u001b[1;32m~\\Anaconda3\\lib\\site-packages\\sklearn\\preprocessing\\data.py\u001b[0m in \u001b[0;36mnormalize\u001b[1;34m(X, norm, axis, copy, return_norm)\u001b[0m\n\u001b[0;32m   1410\u001b[0m \u001b[1;33m\u001b[0m\u001b[0m\n\u001b[0;32m   1411\u001b[0m     X = check_array(X, sparse_format, copy=copy,\n\u001b[1;32m-> 1412\u001b[1;33m                     estimator='the normalize function', dtype=FLOAT_DTYPES)\n\u001b[0m\u001b[0;32m   1413\u001b[0m     \u001b[1;32mif\u001b[0m \u001b[0maxis\u001b[0m \u001b[1;33m==\u001b[0m \u001b[1;36m0\u001b[0m\u001b[1;33m:\u001b[0m\u001b[1;33m\u001b[0m\u001b[0m\n\u001b[0;32m   1414\u001b[0m         \u001b[0mX\u001b[0m \u001b[1;33m=\u001b[0m \u001b[0mX\u001b[0m\u001b[1;33m.\u001b[0m\u001b[0mT\u001b[0m\u001b[1;33m\u001b[0m\u001b[0m\n",
      "\u001b[1;32m~\\Anaconda3\\lib\\site-packages\\sklearn\\utils\\validation.py\u001b[0m in \u001b[0;36mcheck_array\u001b[1;34m(array, accept_sparse, dtype, order, copy, force_all_finite, ensure_2d, allow_nd, ensure_min_samples, ensure_min_features, warn_on_dtype, estimator)\u001b[0m\n\u001b[0;32m    431\u001b[0m                                       force_all_finite)\n\u001b[0;32m    432\u001b[0m     \u001b[1;32melse\u001b[0m\u001b[1;33m:\u001b[0m\u001b[1;33m\u001b[0m\u001b[0m\n\u001b[1;32m--> 433\u001b[1;33m         \u001b[0marray\u001b[0m \u001b[1;33m=\u001b[0m \u001b[0mnp\u001b[0m\u001b[1;33m.\u001b[0m\u001b[0marray\u001b[0m\u001b[1;33m(\u001b[0m\u001b[0marray\u001b[0m\u001b[1;33m,\u001b[0m \u001b[0mdtype\u001b[0m\u001b[1;33m=\u001b[0m\u001b[0mdtype\u001b[0m\u001b[1;33m,\u001b[0m \u001b[0morder\u001b[0m\u001b[1;33m=\u001b[0m\u001b[0morder\u001b[0m\u001b[1;33m,\u001b[0m \u001b[0mcopy\u001b[0m\u001b[1;33m=\u001b[0m\u001b[0mcopy\u001b[0m\u001b[1;33m)\u001b[0m\u001b[1;33m\u001b[0m\u001b[0m\n\u001b[0m\u001b[0;32m    434\u001b[0m \u001b[1;33m\u001b[0m\u001b[0m\n\u001b[0;32m    435\u001b[0m         \u001b[1;32mif\u001b[0m \u001b[0mensure_2d\u001b[0m\u001b[1;33m:\u001b[0m\u001b[1;33m\u001b[0m\u001b[0m\n",
      "\u001b[1;31mKeyboardInterrupt\u001b[0m: "
     ]
    }
   ],
   "source": [
    "from sklearn.metrics.pairwise import cosine_similarity\n",
    "\n",
    "for l in range(len(final_sample)):\n",
    "    v1 = np.array(data.loc[final_sample[l]])\n",
    "    v1 = v1.reshape((1,v1.shape[0]))\n",
    "   # print(v1.shape)\n",
    "    similarity = []\n",
    "    for m in range(len(data)):\n",
    "        v2 = np.array(data.loc[m])\n",
    "        v2 = v2.reshape((1,v2.shape[0]))\n",
    "        similar = math.acos(1 if cosine_similarity(v1,v2) > 1 else cosine_similarity(v1,v2))\n",
    "        temp_array = [similar,m]\n",
    "        #print(temp_array)\n",
    "        similarity.append(temp_array)\n",
    "    similarity.sort(key=lambda x: x[0])\n",
    "    print(\"Given Transaction id:{},  class:{}\".format(final_sample[l],data.Class[final_sample[l]]) )\n",
    "    print(\"***\"*20)\n",
    "    print(\"Similar transactions\")\n",
    "    print(\"***\"*20)\n",
    "    for m in range(10):\n",
    "        print(\"class = {} #similarity = {} #transaction id = {}\".format(data.Class[similarity[m][1]],similarity[m][0],similarity[m][1]))\n",
    "    print(\"////\"*20)\n",
    "    print(\"----\"*20)"
   ]
  },
  {
   "cell_type": "code",
   "execution_count": null,
   "metadata": {},
   "outputs": [],
   "source": []
  },
  {
   "cell_type": "markdown",
   "metadata": {},
   "source": [
    "** PS: YOU CAN SEE KEYBOARD INTERUP IN BOTH OUTPUT. IT WAS TAKING TIME TO RUN SO I TERMINATED EXECUTION.**"
   ]
  },
  {
   "cell_type": "code",
   "execution_count": null,
   "metadata": {
    "collapsed": true
   },
   "outputs": [],
   "source": []
  },
  {
   "cell_type": "code",
   "execution_count": null,
   "metadata": {
    "collapsed": true
   },
   "outputs": [],
   "source": []
  },
  {
   "cell_type": "code",
   "execution_count": null,
   "metadata": {
    "collapsed": true
   },
   "outputs": [],
   "source": []
  }
 ],
 "metadata": {
  "kernelspec": {
   "display_name": "Python 3",
   "language": "python",
   "name": "python3"
  },
  "language_info": {
   "codemirror_mode": {
    "name": "ipython",
    "version": 3
   },
   "file_extension": ".py",
   "mimetype": "text/x-python",
   "name": "python",
   "nbconvert_exporter": "python",
   "pygments_lexer": "ipython3",
   "version": "3.6.3"
  }
 },
 "nbformat": 4,
 "nbformat_minor": 2
}
