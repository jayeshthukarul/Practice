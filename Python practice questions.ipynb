{
 "cells": [
  {
   "cell_type": "markdown",
   "metadata": {},
   "source": [
    "Question 1: Write a function that inputs a number and prints the multiplication table of that number"
   ]
  },
  {
   "cell_type": "code",
   "execution_count": 3,
   "metadata": {},
   "outputs": [
    {
     "name": "stdout",
     "output_type": "stream",
     "text": [
      "enter number: 5\n",
      "Multiplication Table\n",
      "5\n",
      "10\n",
      "15\n",
      "20\n",
      "25\n",
      "30\n",
      "35\n",
      "40\n",
      "45\n",
      "50\n"
     ]
    }
   ],
   "source": [
    "def print_table(x):\n",
    "    for i in range(1,11):\n",
    "        print(x*i)\n",
    "        \n",
    "n = input(\"enter number: \")\n",
    "print(\"Multiplication Table\")\n",
    "print_table(5)"
   ]
  },
  {
   "cell_type": "markdown",
   "metadata": {},
   "source": [
    "Question 2: Write a program to print twin primes less than 1000. If two consecutive odd numbers are\n",
    "both prime then they are known as twin primes"
   ]
  },
  {
   "cell_type": "markdown",
   "metadata": {},
   "source": [
    "\n",
    "\n"
   ]
  },
  {
   "cell_type": "code",
   "execution_count": 43,
   "metadata": {},
   "outputs": [
    {
     "name": "stdout",
     "output_type": "stream",
     "text": [
      "3, 5\n",
      "5, 7\n",
      "11, 13\n",
      "17, 19\n",
      "29, 31\n",
      "41, 43\n",
      "59, 61\n",
      "71, 73\n",
      "101, 103\n",
      "107, 109\n",
      "137, 139\n",
      "149, 151\n",
      "179, 181\n",
      "191, 193\n",
      "197, 199\n",
      "227, 229\n",
      "239, 241\n",
      "269, 271\n",
      "281, 283\n",
      "311, 313\n",
      "347, 349\n",
      "419, 421\n",
      "431, 433\n",
      "461, 463\n",
      "521, 523\n",
      "569, 571\n",
      "599, 601\n",
      "617, 619\n",
      "641, 643\n",
      "659, 661\n",
      "809, 811\n",
      "821, 823\n",
      "827, 829\n",
      "857, 859\n",
      "881, 883\n"
     ]
    }
   ],
   "source": [
    "import math\n",
    "def is_prime(n):\n",
    "    '''function to check prime number'''\n",
    "    if n > 1:\n",
    "        isDivisible = False;\n",
    "        for i in range(2, n):           \n",
    "            if n % i == 0:\n",
    "                isDivisible = True;\n",
    "        return not isDivisible\n",
    "\n",
    "  \n",
    "for i in range(3,1000):\n",
    "    if is_prime(i) and is_prime(i+2) and (i+2) <= 1000:\n",
    "        print(\"{}, {}\".format(i,i+2))"
   ]
  },
  {
   "cell_type": "markdown",
   "metadata": {},
   "source": [
    "Question 3 : Write a program to find out the prime factors of a number. Example: prime factors of 56 -\n",
    "2, 2, 2, 7\n",
    "\n",
    "solution logic is as per the logic explained in video by KhanAcademy"
   ]
  },
  {
   "cell_type": "code",
   "execution_count": null,
   "metadata": {
    "collapsed": true
   },
   "outputs": [],
   "source": []
  },
  {
   "cell_type": "code",
   "execution_count": 65,
   "metadata": {},
   "outputs": [
    {
     "name": "stdout",
     "output_type": "stream",
     "text": [
      "2\n",
      "2\n",
      "2\n",
      "7\n"
     ]
    }
   ],
   "source": [
    "import math\n",
    "import itertools\n",
    "'''Genrator which yields prime number upto the range of square root of number\n",
    "The reason behind generating number upto square root is as below\n",
    "property of composite number: \n",
    "Every composite number has at least one prime factor less than or equal to square root of itself.\n",
    "number n can be factored as a*b   i.e   n = a*b\n",
    "If both a and b were greater than the square root of n, a*b would be greater than n. \n",
    "So at least one of those factors must be less than or equal to the square root of n\n",
    "'''\n",
    "def prime_generator(num):\n",
    "    '''generator to genrate prime number'''\n",
    "    for n in itertools.count(2):\n",
    "        if n <= int(math.sqrt(num)):\n",
    "            if is_prime(n):\n",
    "                yield n\n",
    "        else:\n",
    "            break\n",
    "            \n",
    "    \n",
    "def prime_factors(n):\n",
    "    '''function to calculate prime factors of given number'''\n",
    "    if is_prime(n):\n",
    "        print(\"{} is prime number\".format(n))\n",
    "        exit\n",
    "    else:\n",
    "        for i in prime_generator(n):\n",
    "            while(n%i == 0) and i <= n:\n",
    "                print(i)\n",
    "                n=n/i\n",
    "        \n",
    "           \n",
    "    \n",
    "prime_factors(56)    "
   ]
  },
  {
   "cell_type": "markdown",
   "metadata": {
    "collapsed": true
   },
   "source": [
    "Question 4: Write a program to implement these formulae of permutations and combinations.\n",
    "Number of permutations of n objects taken r at a time: p(n, r) = n! / (n-r)!. Number of\n",
    "combinations of n objects taken r at a time is: c(n, r) = n! / (r!*(n-r)!) = p(n,r) / r!"
   ]
  },
  {
   "cell_type": "code",
   "execution_count": 5,
   "metadata": {},
   "outputs": [
    {
     "name": "stdout",
     "output_type": "stream",
     "text": [
      "permutaion and combination of 6 taken 2 at a time\n",
      "30.0, 15.0\n"
     ]
    }
   ],
   "source": [
    "def fact(n):\n",
    "    if n == 1:\n",
    "        return n\n",
    "    else:\n",
    "        return n*fact(n-1)\n",
    "#print(fact(3))\n",
    "n = 6\n",
    "r = 2\n",
    "print(\"permutaion and combination of {} taken {} at a time\".format(n,r))\n",
    "permut = fact(n)/fact(n-r)\n",
    "comb = permut/fact(r)\n",
    "\n",
    "print(\"{}, {}\".format(permut,comb))"
   ]
  },
  {
   "cell_type": "markdown",
   "metadata": {},
   "source": [
    "Question 5"
   ]
  },
  {
   "cell_type": "markdown",
   "metadata": {},
   "source": [
    "Question 5: Write a function that converts a decimal number to binary number"
   ]
  },
  {
   "cell_type": "code",
   "execution_count": 7,
   "metadata": {},
   "outputs": [
    {
     "name": "stdout",
     "output_type": "stream",
     "text": [
      "1011"
     ]
    }
   ],
   "source": [
    "def dec_bin(n):\n",
    "    '''function that converts decimal to binary using recursion'''\n",
    "    if n > 1:\n",
    "        dec_bin(n//2)\n",
    "    print(n%2,end='')\n",
    "    \n",
    "dec_bin(11)"
   ]
  },
  {
   "cell_type": "markdown",
   "metadata": {},
   "source": [
    "Question 6: Write a function cubesum() that accepts an integer and returns the sum of the cubes of\n",
    "individual digits of that number. Use this function to make functions PrintArmstrong() and\n",
    "isArmstrong() to print Armstrong numbers and to find whether is an Armstrong number."
   ]
  },
  {
   "cell_type": "code",
   "execution_count": 70,
   "metadata": {},
   "outputs": [
    {
     "name": "stdout",
     "output_type": "stream",
     "text": [
      "enter range for which you want print armstrong numbers:500\n",
      "0,1,153,370,371,407,"
     ]
    }
   ],
   "source": [
    "\n",
    "def cubesum(n):\n",
    "    sum = 0\n",
    "    while n > 0:\n",
    "        temp = n % 10\n",
    "        sum += temp ** 3\n",
    "        n = n//10\n",
    "        \n",
    "    return sum\n",
    "\n",
    "#print(cubesum(371))\n",
    "\n",
    "def isArmstrong(n):\n",
    "    if n == cubesum(n):\n",
    "        return True\n",
    "    else:\n",
    "        return False\n",
    "    \n",
    "#print(isArmstrong(371))\n",
    "\n",
    "def PrintArmstrong(n):\n",
    "    i=0\n",
    "    while i <= n:\n",
    "        if isArmstrong(i):\n",
    "            print(i,end=',')\n",
    "        i+=1\n",
    "            \n",
    "#########FOLLOWING FUNCTION GIVING ERROR \"INT IS NOT CALLABLE\".......NEED INVESTIGATION\n",
    "#####    AAIC TEAM IF YOU KNOW ANYTHING ABOUT THIS ERROR PLEASE LET ME KNOW AT jayeshthukarul@gmail.com  ##########\n",
    "'''\n",
    "def PrintArmstrong(n):    \n",
    "    for i in range(1,n):\n",
    "        if isArmstrong(i):\n",
    "            print(i,end=',')\n",
    "       \n",
    "'''        \n",
    "        \n",
    "range = int(input(\"enter range for which you want print armstrong numbers:\"))\n",
    "\n",
    "PrintArmstrong(range)\n",
    "\n"
   ]
  },
  {
   "cell_type": "markdown",
   "metadata": {},
   "source": [
    "Question 7 : Write a function prodDigits() that inputs a number and returns the product of digits of that\n",
    "number.\n"
   ]
  },
  {
   "cell_type": "code",
   "execution_count": 4,
   "metadata": {},
   "outputs": [
    {
     "name": "stdout",
     "output_type": "stream",
     "text": [
      "36\n"
     ]
    }
   ],
   "source": [
    "def proDigits(n):\n",
    "    product = 1\n",
    "    while n > 0:\n",
    "        temp = n % 10\n",
    "        product *= temp\n",
    "        n = n//10\n",
    "        \n",
    "    return product\n",
    "\n",
    "print(proDigits(229))"
   ]
  },
  {
   "cell_type": "markdown",
   "metadata": {},
   "source": [
    "Question 8:If all digits of a number n are multiplied by each other repeating with the product, the one\n",
    "digit number obtained at last is called the multiplicative digital root of n. The number of\n",
    "times digits need to be multiplied to reach one digit is called the multiplicative\n",
    "persistance of n.\n",
    "Example: 86 -&gt; 48 -&gt; 32 -&gt; 6 (MDR 6, MPersistence 3)\n",
    "341 -&gt; 12-&gt;2 (MDR 2, MPersistence 2)\n",
    "Using the function prodDigits() of previous exercise write functions MDR() and\n",
    "MPersistence() that input a number and return its multiplicative digital root and\n",
    "multiplicative persistence respectively"
   ]
  },
  {
   "cell_type": "code",
   "execution_count": 11,
   "metadata": {},
   "outputs": [
    {
     "name": "stdout",
     "output_type": "stream",
     "text": [
      "MDR: 6, MPersistence: 3\n",
      "MDR: 2, MPersistence: 2\n",
      "MDR: 4, MPersistence: 1\n"
     ]
    }
   ],
   "source": [
    "def MDR(n):\n",
    "    count = 0\n",
    "    while(n > 9):\n",
    "        n = proDigits(n)\n",
    "        count += 1\n",
    "    print(\"MDR: {}, MPersistence: {}\".format(n,count))\n",
    "\n",
    "MDR(86)\n",
    "MDR(341)\n",
    "MDR(114)"
   ]
  },
  {
   "cell_type": "markdown",
   "metadata": {},
   "source": [
    "Question 9 :   Write a function sumPdivisors() that finds the sum of proper divisors of a number. Proper\n",
    "divisors of a number are those numbers by which the number is divisible, except the\n",
    "number itself. For example proper divisors of 36 are 1, 2, 3, 4, 6, 9, 18"
   ]
  },
  {
   "cell_type": "code",
   "execution_count": 19,
   "metadata": {},
   "outputs": [
    {
     "name": "stdout",
     "output_type": "stream",
     "text": [
      "Sum: 55\n"
     ]
    }
   ],
   "source": [
    "####   In problem statement 12 is also proper divisor of 36 ...#####\n",
    "def sumPdivisors(n):\n",
    "    '''fuction that return sums of proper divisors.'''\n",
    "    #running for loop till (n/2)+1 numbers because maximum proper divisor would not be greater than n/2.\n",
    "    sum = 0\n",
    "    for i  in range(1,int(n/2)+1):\n",
    "        if(n % i == 0):\n",
    "        #    print(i)\n",
    "            sum += i\n",
    "        \n",
    "    return sum\n",
    "\n",
    "print(\"Sum: \"+str(sumPdivisors(36)))"
   ]
  },
  {
   "cell_type": "markdown",
   "metadata": {},
   "source": [
    "Question 10 : A number is called perfect if the sum of proper divisors of that number is equal to the\n",
    "number. For example 28 is perfect number, since 1+2+4+7+14=28. Write a program to\n",
    "print all the perfect numbers in a given range"
   ]
  },
  {
   "cell_type": "code",
   "execution_count": 20,
   "metadata": {},
   "outputs": [
    {
     "name": "stdout",
     "output_type": "stream",
     "text": [
      "Enter range of numbers: 100\n",
      "0\n",
      "6\n",
      "28\n"
     ]
    }
   ],
   "source": [
    "rng = int(input(\"Enter range of numbers: \"))\n",
    "\n",
    "for i in range(rng):\n",
    "    if(i == sumPdivisors(i)):\n",
    "        print(i)\n",
    "            "
   ]
  },
  {
   "cell_type": "markdown",
   "metadata": {},
   "source": [
    "Question 11: Two different numbers are called amicable numbers if the sum of the proper divisors of\n",
    "each is equal to the other number. For example 220 and 284 are amicable numbers.\n",
    "\n",
    "Sum of proper divisors of 220 = 1+2+4+5+10+11+20+22+44+55+110 = 284\n",
    "Sum of proper divisors of 284 = 1+2+4+71+142 = 220\n",
    "Write a function to print pairs of amicable numbers in a range"
   ]
  },
  {
   "cell_type": "code",
   "execution_count": 27,
   "metadata": {},
   "outputs": [
    {
     "name": "stdout",
     "output_type": "stream",
     "text": [
      "Enter a rnage: 1500\n",
      "220, 284\n",
      "1184, 1210\n"
     ]
    }
   ],
   "source": [
    "### Not able to come up with a algo logic which has less time complexity. Please share algorithm at jayeshthukarul@gmail.com\n",
    "\n",
    "rng = int(input(\"Enter a rnage: \"))\n",
    "\n",
    "for i in range(1,rng):\n",
    "    for j in range(i+1,rng):\n",
    "   #     temp = sumPdivisors(j)\n",
    "        if(i == sumPdivisors(j) and j == sumPdivisors(i)):\n",
    "            print(\"{}, {}\".format(i,j))\n",
    "        "
   ]
  },
  {
   "cell_type": "markdown",
   "metadata": {},
   "source": [
    "Question 12: Write a program which can filter odd numbers in a list by using filter function"
   ]
  },
  {
   "cell_type": "code",
   "execution_count": 2,
   "metadata": {},
   "outputs": [
    {
     "name": "stdout",
     "output_type": "stream",
     "text": [
      "[1, 3, 5, 7, 9, 11, 13, 15, 17, 19, 21, 23, 25, 27, 29, 31, 33, 35, 37, 39, 41, 43, 45, 47, 49, 51, 53, 55, 57, 59, 61, 63, 65, 67, 69, 71, 73, 75, 77, 79, 81, 83, 85, 87, 89, 91, 93, 95, 97, 99]\n"
     ]
    }
   ],
   "source": [
    "lst = range(100)\n",
    "\n",
    "odd_lst = list(filter(lambda x : x%2==1,lst))\n",
    "\n",
    "print(odd_lst)"
   ]
  },
  {
   "cell_type": "markdown",
   "metadata": {},
   "source": [
    "Question 13: Write a program which can map() to make a list whose elements are cube of elements in\n",
    "a given list"
   ]
  },
  {
   "cell_type": "code",
   "execution_count": 3,
   "metadata": {},
   "outputs": [
    {
     "name": "stdout",
     "output_type": "stream",
     "text": [
      "[0, 1, 8, 27, 64, 125, 216, 343, 512, 729, 1000, 1331, 1728, 2197, 2744]\n"
     ]
    }
   ],
   "source": [
    "lst =  range(15)\n",
    "\n",
    "cube_lst = list(map(lambda x : x**3, lst))\n",
    "\n",
    "print(cube_lst)"
   ]
  },
  {
   "cell_type": "markdown",
   "metadata": {},
   "source": [
    "Question 14: Write a program which can map() and filter() to make a list whose elements are cube of\n",
    "even number in a given list"
   ]
  },
  {
   "cell_type": "code",
   "execution_count": 5,
   "metadata": {},
   "outputs": [
    {
     "name": "stdout",
     "output_type": "stream",
     "text": [
      "[0, 2, 4, 6, 8, 10, 12, 14, 16, 18]\n",
      "[0, 8, 64, 216, 512, 1000, 1728, 2744, 4096, 5832]\n"
     ]
    }
   ],
   "source": [
    "lst = range(20)\n",
    "\n",
    "even_lst = list(filter(lambda x : x%2==0,lst))\n",
    "\n",
    "cube_lst = list(map(lambda x : x**3, even_lst))\n",
    "\n",
    "print(even_lst)\n",
    "print(cube_lst)"
   ]
  },
  {
   "cell_type": "code",
   "execution_count": null,
   "metadata": {
    "collapsed": true
   },
   "outputs": [],
   "source": []
  }
 ],
 "metadata": {
  "kernelspec": {
   "display_name": "Python 3",
   "language": "python",
   "name": "python3"
  },
  "language_info": {
   "codemirror_mode": {
    "name": "ipython",
    "version": 3
   },
   "file_extension": ".py",
   "mimetype": "text/x-python",
   "name": "python",
   "nbconvert_exporter": "python",
   "pygments_lexer": "ipython3",
   "version": "3.6.3"
  }
 },
 "nbformat": 4,
 "nbformat_minor": 2
}
